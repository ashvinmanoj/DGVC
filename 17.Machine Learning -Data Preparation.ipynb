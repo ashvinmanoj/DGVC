{
 "cells": [
  {
   "cell_type": "markdown",
   "id": "cff8a1c1",
   "metadata": {},
   "source": [
    "## Split your dataframe into Train-Test dataframes"
   ]
  },
  {
   "cell_type": "markdown",
   "id": "0ee4b0ca",
   "metadata": {},
   "source": [
    "####  \n",
    "**TRAIN** dataset (dataframe or set) is a subset of your dataset used to train a machine learning model. So after training the trained model can be used to evaluate the performance of the mode on the **TEST** dataset (dataframe or set). \n",
    "Training is done on different machine learning models and every trained model is tested on the Test set. Using the similar metris all trained model are then compared with the result from the test set. The model with best accuracy is then selected as the final model.\n",
    "\n",
    "\n",
    "#### This section will cover the following\n",
    "\n",
    "- The train-test split procedure is appropriate when you have a very large dataset, a costly model to train, or require a good estimate of model performance quickly.\n",
    "- How to use the scikit-learn machine learning library to perform the train-test split procedure.\n",
    "- How to evaluate machine learning algorithms for classification and regression using the train-test split."
   ]
  },
  {
   "cell_type": "markdown",
   "id": "5b5b15ef",
   "metadata": {},
   "source": [
    "### Lets code and learn the following\n",
    "\n",
    "    1.Train-Test Split Evaluation\n",
    "        * When to Use the Train-Test Split\n",
    "        * How to Configure the Train-Test Split\n",
    "    \n",
    "    2. Train-Test Split Procedure in Scikit-Learn\n",
    "        * Repeatable Train-Test Splits\n",
    "        * Stratified Train-Test Splits\n",
    "        \n",
    "    3. Train-Test Split to Evaluate Machine Learning Models\n",
    "        * Train-Test Split for Classification\n",
    "        * Train-Test Split for Regression"
   ]
  },
  {
   "cell_type": "markdown",
   "id": "1e7f1652",
   "metadata": {},
   "source": [
    "## 1.Train-Test Split Evaluation\n",
    "\n",
    "The procedure involves taking a dataset and dividing it into two subsets. The first subset is used to fit the model and is referred to as the training dataset. The second subset is not used to train the model; instead, the input element of the dataset is provided to the model, then predictions are made and compared to the expected values. This second dataset is referred to as the test dataset.\n",
    "\n",
    "- **Train Dataset**: Used to fit the machine learning model.\n",
    "- **Test Dataset**: Used to evaluate the fit machine learning model.\n",
    "\n",
    "The objective is to estimate the performance of the machine learning model on new data: data not used to train the model.\n",
    "\n",
    "### When to Use the Train-Test Split\n",
    "\n",
    "The train-test procedure is appropriate when there is a sufficiently large dataset available.\n",
    "\n",
    "If you have insufficient data, then a suitable alternate model evaluation procedure would be the k-fold cross-validation procedure.\n",
    "\n",
    "In addition to dataset size, another reason to use the train-test split evaluation procedure is computational efficiency.\n",
    "\n",
    "Some models are very costly to train, and in that case, repeated evaluation used in other procedures is intractable. An example might be deep neural network models. In this case, the train-test procedure is commonly used.\n",
    "\n",
    "### How to Configure the Train-Test Split\n",
    "\n",
    "There is no optimal split percentage.\n",
    "\n",
    "You must choose a split percentage that meets your project’s objectives with considerations that include:\n",
    "\n",
    "Computational cost in training the model.\n",
    "Computational cost in evaluating the model.\n",
    "Training set representativeness.\n",
    "Test set representativeness.\n",
    "Nevertheless, common split percentages include:\n",
    "\n",
    "- **Train:** 80%, **Test:** 20%\n",
    "- **Train:** 67%, **Test:** 33%\n",
    "- **Train:** 50%, **Test:** 50%\n",
    "\n",
    "Now that we are familiar with the train-test split model evaluation procedure, let’s look at how we can use this procedure in Python."
   ]
  },
  {
   "cell_type": "code",
   "execution_count": 1,
   "id": "4fd79787",
   "metadata": {},
   "outputs": [
    {
     "name": "stdout",
     "output_type": "stream",
     "text": [
      "(10000, 5) (10000,)\n"
     ]
    }
   ],
   "source": [
    "# split a dataset into train and test sets\n",
    "from sklearn.datasets import make_blobs\n",
    "\n",
    "# create dataset\n",
    "X, y = make_blobs(n_samples=10000,n_features=5)\n",
    "print(X.shape, y.shape)"
   ]
  },
  {
   "cell_type": "markdown",
   "id": "b5db61c3",
   "metadata": {},
   "source": [
    "#### Custom function returning 2 values (can be extended to any number in return statement)"
   ]
  },
  {
   "cell_type": "code",
   "execution_count": 2,
   "id": "d093d63f",
   "metadata": {},
   "outputs": [
    {
     "data": {
      "text/plain": [
       "30"
      ]
     },
     "execution_count": 2,
     "metadata": {},
     "output_type": "execute_result"
    }
   ],
   "source": [
    "def calculation(a,b):\n",
    "    c=a+b\n",
    "    d=a-b\n",
    "    return c\n",
    "\n",
    "calculation(10,20)"
   ]
  },
  {
   "cell_type": "code",
   "execution_count": 3,
   "id": "d382ac57",
   "metadata": {},
   "outputs": [
    {
     "data": {
      "text/plain": [
       "(30, -10)"
      ]
     },
     "execution_count": 3,
     "metadata": {},
     "output_type": "execute_result"
    }
   ],
   "source": [
    "def calculation(a,b):\n",
    "    c=a+b\n",
    "    d=a-b\n",
    "    return c,d\n",
    "\n",
    "calculation(10,20)"
   ]
  },
  {
   "cell_type": "code",
   "execution_count": 4,
   "id": "7f5e0992",
   "metadata": {},
   "outputs": [
    {
     "name": "stdout",
     "output_type": "stream",
     "text": [
      "(6000, 5) (4000, 5) (6000,) (4000,)\n",
      "[[ 5.12357129  0.75833929 -9.06658118 -2.85343769 -5.31888303]\n",
      " [-1.10792707 -2.78212246 -0.32504575 -1.04274627  5.57388867]\n",
      " [-6.45087744  7.42596766  4.5773789   0.9806548  -8.45043119]\n",
      " [-8.17791838  7.30577418  6.29174118  4.17500815 -8.23799694]\n",
      " [-6.23314094  6.54035799  5.08730128  3.05088653 -8.74551005]]\n"
     ]
    }
   ],
   "source": [
    "# split a dataset into train and test sets\n",
    "from sklearn.datasets import make_blobs\n",
    "from sklearn.model_selection import train_test_split\n",
    "# create dataset\n",
    "X, y = make_blobs(n_samples=10000,n_features=5)\n",
    "\n",
    "# split into train test sets\n",
    "X_train, X_test, y_train, y_test = train_test_split(X, y, test_size=0.40)\n",
    "print(X_train.shape, X_test.shape, y_train.shape, y_test.shape)\n",
    "print(X_train[:5, :])"
   ]
  },
  {
   "cell_type": "markdown",
   "id": "335e40ea",
   "metadata": {},
   "source": [
    "### Train & Test split changes everytime when we split."
   ]
  },
  {
   "cell_type": "code",
   "execution_count": 5,
   "id": "8e9717bd",
   "metadata": {},
   "outputs": [
    {
     "name": "stdout",
     "output_type": "stream",
     "text": [
      "[[-1.54353073 -4.29460015  0.23791124 -2.05220823  5.55746708]\n",
      " [-6.95400079  5.41423678  6.46222821  1.50954791 -9.19830366]\n",
      " [-8.3689323   6.78743567  7.14419999  3.17524899 -8.7009763 ]\n",
      " [-6.15292969  5.79118608  6.41428536  3.64860929 -8.16633811]\n",
      " [ 0.37605237 -4.67052251 -0.17310881 -2.54801385  5.07055025]]\n"
     ]
    }
   ],
   "source": [
    "X_train, X_test, y_train, y_test = train_test_split(X, y, test_size=0.40)\n",
    "print(X_train[:5, :])"
   ]
  },
  {
   "cell_type": "markdown",
   "id": "b1b66d0f",
   "metadata": {},
   "source": [
    "### Repeatable Train-Test Splits\n",
    "\n",
    "Another important consideration is that rows are assigned to the train and test sets randomly.\n",
    "\n",
    "This is done to ensure that datasets are a representative sample (e.g. random sample) of the original dataset, which in turn, should be a representative sample of observations from the problem domain.\n",
    "\n",
    "When comparing machine learning algorithms, it is desirable (perhaps required) that they are fit and evaluated on the same subsets of the dataset.\n",
    "\n",
    "This can be achieved by fixing the seed for the pseudo-random number generator used when splitting the dataset"
   ]
  },
  {
   "cell_type": "markdown",
   "id": "a0a0b40b",
   "metadata": {},
   "source": [
    "### Train & Test split does not changes everytime when we split after setting random_state variable"
   ]
  },
  {
   "cell_type": "code",
   "execution_count": 6,
   "id": "2ce56c81",
   "metadata": {},
   "outputs": [
    {
     "name": "stdout",
     "output_type": "stream",
     "text": [
      "[[-6.23188709  4.6968923   5.89480414  1.67274021 -7.84475426]\n",
      " [-2.45450687 -5.971361   -0.71179117 -2.62636523  4.00524223]\n",
      " [-5.04805412  5.00746253  7.37637561  2.64919465 -8.39799935]\n",
      " [-2.16672353 -5.76158769  0.85725886 -2.95528901  4.7787161 ]\n",
      " [ 3.09837309  1.77385836 -7.7074244  -1.32560851 -4.72231041]]\n"
     ]
    }
   ],
   "source": [
    "X_train, X_test, y_train, y_test = train_test_split(X, y, test_size=0.40,random_state=1)\n",
    "print(X_train[:5, :])"
   ]
  },
  {
   "cell_type": "code",
   "execution_count": 7,
   "id": "0be6ead2",
   "metadata": {},
   "outputs": [
    {
     "name": "stdout",
     "output_type": "stream",
     "text": [
      "[[-6.23188709  4.6968923   5.89480414  1.67274021 -7.84475426]\n",
      " [-2.45450687 -5.971361   -0.71179117 -2.62636523  4.00524223]\n",
      " [-5.04805412  5.00746253  7.37637561  2.64919465 -8.39799935]\n",
      " [-2.16672353 -5.76158769  0.85725886 -2.95528901  4.7787161 ]\n",
      " [ 3.09837309  1.77385836 -7.7074244  -1.32560851 -4.72231041]]\n"
     ]
    }
   ],
   "source": [
    "X_train, X_test, y_train, y_test = train_test_split(X, y, test_size=0.40,random_state=1)\n",
    "print(X_train[:5, :])"
   ]
  },
  {
   "cell_type": "markdown",
   "id": "681f99ef",
   "metadata": {},
   "source": [
    "### Stratified Train-Test Splits\n",
    "\n",
    "One final consideration is for **classification** problems only.\n",
    "\n",
    "Some classification problems do not have a balanced number of examples for each class label. As such, it is desirable to split the dataset into train and test sets in a way that preserves the same proportions of examples in each class as observed in the original dataset.\n",
    "\n",
    "This is called a stratified train-test split.\n",
    "\n",
    "We can achieve this by setting the “stratify” argument to the y component of the original dataset. This will be used by the train_test_split() function to ensure that both the train and test sets have the proportion of examples in each class that is present in the provided “y” array."
   ]
  },
  {
   "cell_type": "code",
   "execution_count": 8,
   "id": "958bc944",
   "metadata": {},
   "outputs": [
    {
     "name": "stdout",
     "output_type": "stream",
     "text": [
      "(10000, 20) (10000,) Counter({0: 9400, 1: 600})\n"
     ]
    }
   ],
   "source": [
    "from sklearn.datasets import make_classification\n",
    "from collections import Counter\n",
    "X, y = make_classification(n_samples=10000, weights=[0.94], flip_y=0, random_state=1)\n",
    "print(X.shape, y.shape, Counter(y))"
   ]
  },
  {
   "cell_type": "code",
   "execution_count": 9,
   "id": "662cabfa",
   "metadata": {},
   "outputs": [
    {
     "name": "stdout",
     "output_type": "stream",
     "text": [
      "Counter({0: 7050, 1: 450})\n",
      "Counter({0: 2350, 1: 150})\n"
     ]
    }
   ],
   "source": [
    "X_train, X_test, y_train, y_test = train_test_split(X, y, train_size=0.75, random_state=1, stratify=y)\n",
    "print(Counter(y_train))\n",
    "print(Counter(y_test))"
   ]
  },
  {
   "cell_type": "markdown",
   "id": "da985c18",
   "metadata": {},
   "source": [
    "#### Multiclass classification"
   ]
  },
  {
   "cell_type": "code",
   "execution_count": 10,
   "id": "41dce81d",
   "metadata": {},
   "outputs": [
    {
     "name": "stdout",
     "output_type": "stream",
     "text": [
      "Counter({1: 6000, 0: 2500, 2: 1500})\n",
      "Counter({1: 2999, 0: 1261, 2: 740})\n",
      "Counter({1: 3001, 0: 1239, 2: 760})\n"
     ]
    }
   ],
   "source": [
    "# split imbalanced dataset into train and test sets without stratification\n",
    "from collections import Counter\n",
    "from sklearn.datasets import make_classification\n",
    "from sklearn.model_selection import train_test_split\n",
    "# create dataset\n",
    "X, y = make_classification(n_samples=10000, weights=[0.25,0.60,0.15], flip_y=0, random_state=1, n_classes=3,n_informative=3)\n",
    "print(Counter(y))\n",
    "# split into train test sets\n",
    "X_train, X_test, y_train, y_test = train_test_split(X, y, test_size=0.50, random_state=1)\n",
    "print(Counter(y_train))\n",
    "print(Counter(y_test))"
   ]
  },
  {
   "cell_type": "code",
   "execution_count": 11,
   "id": "e59ba1e1",
   "metadata": {},
   "outputs": [
    {
     "name": "stdout",
     "output_type": "stream",
     "text": [
      "Counter({0: 60, 1: 40})\n",
      "Counter({0: 30, 1: 20})\n",
      "Counter({0: 30, 1: 20})\n"
     ]
    }
   ],
   "source": [
    "\n",
    "# split imbalanced dataset into train and test sets with stratification\n",
    "from collections import Counter\n",
    "from sklearn.datasets import make_classification\n",
    "from sklearn.model_selection import train_test_split\n",
    "# create dataset\n",
    "X, y = make_classification(n_samples=100, weights=[0.60], flip_y=0, random_state=1)\n",
    "print(Counter(y))\n",
    "# split into train test sets\n",
    "X_train, X_test, y_train, y_test = train_test_split(X, y, test_size=0.50, random_state=1, stratify=y)\n",
    "print(Counter(y_train))\n",
    "print(Counter(y_test))"
   ]
  },
  {
   "cell_type": "markdown",
   "id": "298d945e",
   "metadata": {},
   "source": [
    "### Train-Test Split to Evaluate Machine Learning Models\n",
    "\n",
    "#### Train-Test Split for Classification"
   ]
  },
  {
   "cell_type": "code",
   "execution_count": 12,
   "id": "7cd2537b",
   "metadata": {},
   "outputs": [
    {
     "name": "stdout",
     "output_type": "stream",
     "text": [
      "(208, 60) (208,)\n"
     ]
    }
   ],
   "source": [
    "\n",
    "# summarize the sonar dataset\n",
    "from pandas import read_csv\n",
    "# load dataset\n",
    "url = 'https://raw.githubusercontent.com/jbrownlee/Datasets/master/sonar.csv'\n",
    "dataframe = read_csv(url, header=None)\n",
    "# split into input and output elements\n",
    "data = dataframe.values\n",
    "X, y = data[:, :-1], data[:, -1]\n",
    "print(X.shape, y.shape)"
   ]
  },
  {
   "cell_type": "code",
   "execution_count": 13,
   "id": "79ad5522",
   "metadata": {},
   "outputs": [
    {
     "name": "stdout",
     "output_type": "stream",
     "text": [
      "(139, 60) (69, 60) (139,) (69,)\n"
     ]
    }
   ],
   "source": [
    "# split into train test sets\n",
    "X_train, X_test, y_train, y_test = train_test_split(X, y, test_size=0.33, random_state=1)\n",
    "print(X_train.shape, X_test.shape, y_train.shape, y_test.shape)"
   ]
  },
  {
   "cell_type": "code",
   "execution_count": 14,
   "id": "bd2ca6b5",
   "metadata": {},
   "outputs": [
    {
     "data": {
      "text/plain": [
       "RandomForestClassifier(random_state=1)"
      ]
     },
     "execution_count": 14,
     "metadata": {},
     "output_type": "execute_result"
    }
   ],
   "source": [
    "from sklearn.ensemble import RandomForestClassifier\n",
    "\n",
    "#fit the dataset\n",
    "model = RandomForestClassifier(random_state=1)\n",
    "model.fit(X_train, y_train)"
   ]
  },
  {
   "cell_type": "code",
   "execution_count": 15,
   "id": "1cb7f000",
   "metadata": {},
   "outputs": [],
   "source": [
    "# make predictions\n",
    "yhat = model.predict(X_test)"
   ]
  },
  {
   "cell_type": "code",
   "execution_count": 16,
   "id": "f01d4bfc",
   "metadata": {},
   "outputs": [
    {
     "name": "stdout",
     "output_type": "stream",
     "text": [
      "Accuracy: 0.783\n"
     ]
    }
   ],
   "source": [
    "# evaluate predictions\n",
    "from sklearn.metrics import accuracy_score\n",
    "acc = accuracy_score(y_test, yhat)\n",
    "print('Accuracy: %.3f' % acc)"
   ]
  },
  {
   "cell_type": "markdown",
   "id": "cf31b3ad",
   "metadata": {},
   "source": [
    "### Train-Test Split for Regression"
   ]
  },
  {
   "cell_type": "code",
   "execution_count": 17,
   "id": "d72a0654",
   "metadata": {},
   "outputs": [
    {
     "name": "stdout",
     "output_type": "stream",
     "text": [
      "(506, 13) (506,)\n",
      "(339, 13) (167, 13) (339,) (167,)\n",
      "MAE: 2.171\n"
     ]
    }
   ],
   "source": [
    "\n",
    "# train-test split evaluation random forest on the housing dataset\n",
    "from pandas import read_csv\n",
    "from sklearn.model_selection import train_test_split\n",
    "from sklearn.ensemble import RandomForestRegressor\n",
    "from sklearn.metrics import mean_absolute_error\n",
    "# load dataset\n",
    "url = 'https://raw.githubusercontent.com/jbrownlee/Datasets/master/housing.csv'\n",
    "dataframe = read_csv(url, header=None)\n",
    "data = dataframe.values\n",
    "# split into inputs and outputs\n",
    "X, y = data[:, :-1], data[:, -1]\n",
    "print(X.shape, y.shape)\n",
    "# split into train test sets\n",
    "X_train, X_test, y_train, y_test = train_test_split(X, y, test_size=0.33, random_state=1)\n",
    "print(X_train.shape, X_test.shape, y_train.shape, y_test.shape)\n",
    "# fit the model\n",
    "model = RandomForestRegressor(random_state=1)\n",
    "model.fit(X_train, y_train)\n",
    "# make predictions\n",
    "yhat = model.predict(X_test)\n",
    "# evaluate predictions\n",
    "mae = mean_absolute_error(y_test, yhat)\n",
    "print('MAE: %.3f' % mae)"
   ]
  },
  {
   "cell_type": "markdown",
   "id": "f2bd2b06",
   "metadata": {},
   "source": [
    "# Feature Scaling"
   ]
  },
  {
   "attachments": {
    "1.jpg": {
     "image/jpeg": "[encoded data removed]"
    }
   },
   "cell_type": "markdown",
   "id": "ff976e0e",
   "metadata": {},
   "source": [
    "![1.jpg](attachment:1.jpg)"
   ]
  },
  {
   "attachments": {
    "1-2.jpg": {
     "image/jpeg": "[encoded data removed]"
    },
    "1-3.jpg": {
     "image/jpeg": "[encoded data removed]"
    },
    "1-4.jpg": {
     "image/jpeg": "[encoded data removed]"
    },
    "1.jpg": {
     "image/jpeg": "[encoded data removed]"
    }
   },
   "cell_type": "markdown",
   "id": "2e513b47",
   "metadata": {},
   "source": [
    "For example, let’s say we have data containing high school CGPA scores of students (ranging from 0 to 5) and their future incomes (in thousands Rupees)\n",
    "\n",
    "Since both the features have different scales, there is a chance that higher weightage is given to features with higher magnitudes. This will impact the performance of the machine learning algorithm; obviously, we do not want our algorithm to be biased towards one feature.\n",
    "\n",
    "Therefore, we scale our data before employing a distance based algorithm so that all the features contribute equally to the result.\n",
    "![1.jpg](attachment:1.jpg)\n",
    "\n",
    "The effect of scaling is conspicuous when we compare the Euclidean distance between data points for students A and B, and between B and C, before and after scaling, as shown below:\n",
    "\n",
    "![1-2.jpg](attachment:1-2.jpg)\n",
    "\n",
    "\n",
    "Scaling has brought both the features into the picture, and the distances are now more comparable than they were before we applied scaling.\n",
    "\n",
    "\n",
    "#### **What Is Normalization?**\n",
    "Normalization is a scaling technique in which values are shifted and rescaled so that they end up ranging between 0 and 1. It is also known as Min-Max scaling.\n",
    "\n",
    "Here’s the formula for normalization:\n",
    "\n",
    "\n",
    "![1-3.jpg](attachment:1-3.jpg)\n",
    "\n",
    "Here, Xmax and Xmin are the maximum and the minimum values of the feature, respectively.\n",
    "\n",
    "- When the value of X is the minimum value in the column, the numerator will be 0, and hence X’ is 0\n",
    "- On the other hand, when the value of X is the maximum value in the column, the numerator is equal to the denominator, and thus the value of X’ is 1\n",
    "- If the value of X is between the minimum and the maximum value, then the value of X’ is between 0 and 1\n",
    "\n",
    "\n",
    "#### **What Is Standardization?**\n",
    "Standardization is another scaling method where the values are centered around the mean with a unit standard deviation. This means that the mean of the attribute becomes zero, and the resultant distribution has a unit standard deviation.\n",
    "\n",
    "Here’s the formula for standardization:\n",
    "\n",
    "![1-4.jpg](attachment:1-4.jpg)\n",
    "\n",
    "Note that, in this case, the values are not restricted to a particular range."
   ]
  },
  {
   "cell_type": "markdown",
   "id": "56bc2c8d",
   "metadata": {},
   "source": [
    "# The Big Question – Normalize or Standardize?\n",
    "\n",
    "\n",
    "- **Normalization** is good to use when you know that the distribution of your data does not follow a Gaussian distribution. This can be useful in algorithms that do not assume any distribution of the data, like K-Nearest Neighbors and Neural Networks.\n",
    "\n",
    "- **Standardization**, on the other hand, can be helpful in cases where the data follows a Gaussian distribution. However, this does not have to be necessarily true. Also, unlike normalization, standardization does not have a bounding range. So, even if you have outliers in your data, they will not be affected by standardization.\n",
    "\n",
    "However, at the end of the day, the choice of using normalization or standardization will depend on your problem and the machine learning algorithm you are using. There is no hard and fast rule to tell you when to normalize or standardize your data. You can always start by fitting your model to raw, normalized, and standardized data and comparing the performance for the best results."
   ]
  },
  {
   "cell_type": "markdown",
   "id": "9b9403db",
   "metadata": {},
   "source": [
    "#### Examples of Normalization and Scaling"
   ]
  },
  {
   "cell_type": "code",
   "execution_count": 18,
   "id": "f6c53add",
   "metadata": {},
   "outputs": [],
   "source": [
    "sales= read_csv(\"https://raw.githubusercontent.com/ashvinmanoj/DGVC/main/Dataset/Big_Mart_sales.csv\")\n",
    "sales=sales[['Item_Weight','Item_Visibility','Item_MRP']]"
   ]
  },
  {
   "cell_type": "code",
   "execution_count": 19,
   "id": "f9392159",
   "metadata": {},
   "outputs": [
    {
     "data": {
      "text/html": [
       "<div>\n",
       "<style scoped>\n",
       "    .dataframe tbody tr th:only-of-type {\n",
       "        vertical-align: middle;\n",
       "    }\n",
       "\n",
       "    .dataframe tbody tr th {\n",
       "        vertical-align: top;\n",
       "    }\n",
       "\n",
       "    .dataframe thead th {\n",
       "        text-align: right;\n",
       "    }\n",
       "</style>\n",
       "<table border=\"1\" class=\"dataframe\">\n",
       "  <thead>\n",
       "    <tr style=\"text-align: right;\">\n",
       "      <th></th>\n",
       "      <th>Item_Weight</th>\n",
       "      <th>Item_Visibility</th>\n",
       "      <th>Item_MRP</th>\n",
       "    </tr>\n",
       "  </thead>\n",
       "  <tbody>\n",
       "    <tr>\n",
       "      <th>count</th>\n",
       "      <td>7060.000000</td>\n",
       "      <td>8523.000000</td>\n",
       "      <td>8523.000000</td>\n",
       "    </tr>\n",
       "    <tr>\n",
       "      <th>mean</th>\n",
       "      <td>12.857645</td>\n",
       "      <td>0.066132</td>\n",
       "      <td>140.992782</td>\n",
       "    </tr>\n",
       "    <tr>\n",
       "      <th>std</th>\n",
       "      <td>4.643456</td>\n",
       "      <td>0.051598</td>\n",
       "      <td>62.275067</td>\n",
       "    </tr>\n",
       "    <tr>\n",
       "      <th>min</th>\n",
       "      <td>4.555000</td>\n",
       "      <td>0.000000</td>\n",
       "      <td>31.290000</td>\n",
       "    </tr>\n",
       "    <tr>\n",
       "      <th>25%</th>\n",
       "      <td>8.773750</td>\n",
       "      <td>0.026989</td>\n",
       "      <td>93.826500</td>\n",
       "    </tr>\n",
       "    <tr>\n",
       "      <th>50%</th>\n",
       "      <td>12.600000</td>\n",
       "      <td>0.053931</td>\n",
       "      <td>143.012800</td>\n",
       "    </tr>\n",
       "    <tr>\n",
       "      <th>75%</th>\n",
       "      <td>16.850000</td>\n",
       "      <td>0.094585</td>\n",
       "      <td>185.643700</td>\n",
       "    </tr>\n",
       "    <tr>\n",
       "      <th>max</th>\n",
       "      <td>21.350000</td>\n",
       "      <td>0.328391</td>\n",
       "      <td>266.888400</td>\n",
       "    </tr>\n",
       "  </tbody>\n",
       "</table>\n",
       "</div>"
      ],
      "text/plain": [
       "       Item_Weight  Item_Visibility     Item_MRP\n",
       "count  7060.000000      8523.000000  8523.000000\n",
       "mean     12.857645         0.066132   140.992782\n",
       "std       4.643456         0.051598    62.275067\n",
       "min       4.555000         0.000000    31.290000\n",
       "25%       8.773750         0.026989    93.826500\n",
       "50%      12.600000         0.053931   143.012800\n",
       "75%      16.850000         0.094585   185.643700\n",
       "max      21.350000         0.328391   266.888400"
      ]
     },
     "execution_count": 19,
     "metadata": {},
     "output_type": "execute_result"
    }
   ],
   "source": [
    "sales.describe()"
   ]
  },
  {
   "cell_type": "code",
   "execution_count": 20,
   "id": "57243d48",
   "metadata": {},
   "outputs": [],
   "source": [
    "from sklearn.preprocessing import MinMaxScaler\n",
    "\n",
    "# fit scaler on training data\n",
    "norm = MinMaxScaler().fit(sales)\n",
    "\n",
    "# transform training data\n",
    "sales_norm = norm.transform(sales)"
   ]
  },
  {
   "cell_type": "code",
   "execution_count": 21,
   "id": "7e78bc5d",
   "metadata": {},
   "outputs": [
    {
     "ename": "NameError",
     "evalue": "name 'pd' is not defined",
     "output_type": "error",
     "traceback": [
      "\u001b[1;31m---------------------------------------------------------------------------\u001b[0m",
      "\u001b[1;31mNameError\u001b[0m                                 Traceback (most recent call last)",
      "\u001b[1;32m~\\AppData\\Local\\Temp\\ipykernel_18612\\3674216832.py\u001b[0m in \u001b[0;36m<module>\u001b[1;34m\u001b[0m\n\u001b[1;32m----> 1\u001b[1;33m \u001b[0msales_norm\u001b[0m\u001b[1;33m=\u001b[0m\u001b[0mpd\u001b[0m\u001b[1;33m.\u001b[0m\u001b[0mDataFrame\u001b[0m\u001b[1;33m(\u001b[0m\u001b[0msales_norm\u001b[0m\u001b[1;33m,\u001b[0m\u001b[0mcolumns\u001b[0m\u001b[1;33m=\u001b[0m\u001b[1;33m[\u001b[0m\u001b[1;34m'Item_Weight'\u001b[0m\u001b[1;33m,\u001b[0m\u001b[1;34m'Item_Visibility'\u001b[0m\u001b[1;33m,\u001b[0m\u001b[1;34m'Item_MRP'\u001b[0m\u001b[1;33m]\u001b[0m\u001b[1;33m)\u001b[0m\u001b[1;33m\u001b[0m\u001b[0m\n\u001b[0m\u001b[0;32m      2\u001b[0m \u001b[0msales_norm\u001b[0m\u001b[1;33m.\u001b[0m\u001b[0mdescribe\u001b[0m\u001b[1;33m(\u001b[0m\u001b[1;33m)\u001b[0m\u001b[1;33m\u001b[0m\u001b[0m\n",
      "\u001b[1;31mNameError\u001b[0m: name 'pd' is not defined"
     ]
    }
   ],
   "source": [
    "sales_norm=pd.DataFrame(sales_norm,columns=['Item_Weight','Item_Visibility','Item_MRP'])\n",
    "sales_norm.describe()"
   ]
  },
  {
   "cell_type": "code",
   "execution_count": null,
   "id": "c2e8e81d",
   "metadata": {},
   "outputs": [],
   "source": [
    "plt.figure(figsize=(10,15))\n",
    "for i, col in enumerate(list(sales[['Item_Weight','Item_Visibility','Item_MRP']].columns.values)):\n",
    "    plt.subplot(5,3,i+1)\n",
    "    sales.boxplot(col)\n",
    "    plt.grid()\n",
    "    plt.tight_layout()"
   ]
  },
  {
   "cell_type": "code",
   "execution_count": null,
   "id": "b2821367",
   "metadata": {},
   "outputs": [],
   "source": [
    "plt.figure(figsize=(10,15))\n",
    "for i, col in enumerate(list(sales_norm.columns.values)):\n",
    "    plt.subplot(5,3,i+1)\n",
    "    sales_norm.boxplot(col)\n",
    "    plt.grid()\n",
    "    plt.tight_layout()"
   ]
  },
  {
   "cell_type": "code",
   "execution_count": null,
   "id": "33ae009f",
   "metadata": {},
   "outputs": [],
   "source": [
    "from sklearn.preprocessing import StandardScaler\n",
    "\n",
    "# copy of datasets\n",
    "sales_stand = sales.copy()\n",
    "\n",
    "\n",
    "# numerical features\n",
    "num_cols = ['Item_Weight','Item_Visibility','Item_MRP']\n",
    "\n",
    "# apply standardization on numerical features\n",
    "for i in num_cols:\n",
    "    \n",
    "    # fit on training data column\n",
    "    scale = StandardScaler().fit(sales_stand[[i]])\n",
    "    \n",
    "    # transform the training data column\n",
    "    sales_stand[i] = scale.transform(sales[[i]])\n",
    "    \n",
    "sales_stand.describe()"
   ]
  },
  {
   "cell_type": "code",
   "execution_count": null,
   "id": "3757b7b5",
   "metadata": {},
   "outputs": [],
   "source": [
    "plt.figure(figsize=(10,15))\n",
    "for i, col in enumerate(list(sales_stand.columns.values)):\n",
    "    plt.subplot(5,3,i+1)\n",
    "    sales_stand.boxplot(col)\n",
    "    plt.grid()\n",
    "    plt.tight_layout()"
   ]
  },
  {
   "cell_type": "code",
   "execution_count": null,
   "id": "1e8be3f2",
   "metadata": {},
   "outputs": [],
   "source": []
  },
  {
   "cell_type": "code",
   "execution_count": null,
   "id": "d4449cc8",
   "metadata": {},
   "outputs": [],
   "source": []
  },
  {
   "cell_type": "code",
   "execution_count": null,
   "id": "deddfde6",
   "metadata": {},
   "outputs": [],
   "source": []
  },
  {
   "cell_type": "code",
   "execution_count": null,
   "id": "9c74eac7",
   "metadata": {},
   "outputs": [],
   "source": []
  },
  {
   "cell_type": "code",
   "execution_count": null,
   "id": "b494d895",
   "metadata": {},
   "outputs": [],
   "source": []
  },
  {
   "cell_type": "code",
   "execution_count": null,
   "id": "1639c446",
   "metadata": {},
   "outputs": [],
   "source": []
  },
  {
   "cell_type": "code",
   "execution_count": null,
   "id": "d81b6b34",
   "metadata": {},
   "outputs": [],
   "source": []
  },
  {
   "cell_type": "code",
   "execution_count": null,
   "id": "6c94c3b1",
   "metadata": {},
   "outputs": [],
   "source": []
  },
  {
   "cell_type": "code",
   "execution_count": null,
   "id": "a423dad8",
   "metadata": {},
   "outputs": [],
   "source": []
  }
 ],
 "metadata": {
  "kernelspec": {
   "display_name": "dgvs",
   "language": "python",
   "name": "dgvs"
  },
  "language_info": {
   "codemirror_mode": {
    "name": "ipython",
    "version": 3
   },
   "file_extension": ".py",
   "mimetype": "text/x-python",
   "name": "python",
   "nbconvert_exporter": "python",
   "pygments_lexer": "ipython3",
   "version": "3.7.0"
  }
 },
 "nbformat": 4,
 "nbformat_minor": 5
}

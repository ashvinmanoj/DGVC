{
 "cells": [
  {
   "cell_type": "markdown",
   "id": "cf97bf34",
   "metadata": {},
   "source": [
    "### Lists are used to store multiple items in a single variable.\n",
    "\n",
    "#### Lists are one of 4 built-in data types in Python used to store collections of data, the other 3 are Tuple, Set, and Dictionary, all with different qualities and usage.\n",
    "\n",
    "#### Lists are created using square brackets:"
   ]
  },
  {
   "cell_type": "code",
   "execution_count": 1,
   "id": "93834e4d",
   "metadata": {},
   "outputs": [
    {
     "name": "stdout",
     "output_type": "stream",
     "text": [
      "[1, 2, 5]\n"
     ]
    }
   ],
   "source": [
    "# A list with 3 integers\n",
    "numbers = [1, 2, 5]\n",
    "print(numbers)"
   ]
  },
  {
   "cell_type": "code",
   "execution_count": 2,
   "id": "dfa1e402",
   "metadata": {},
   "outputs": [
    {
     "data": {
      "text/plain": [
       "[1, 'Hello', 3.4]"
      ]
     },
     "execution_count": 2,
     "metadata": {},
     "output_type": "execute_result"
    }
   ],
   "source": [
    "# empty list\n",
    "my_list = []\n",
    "# list with mixed data types\n",
    "my_list = [1, \"Hello\", 3.4]\n",
    "my_list"
   ]
  },
  {
   "cell_type": "code",
   "execution_count": 3,
   "id": "34be086b",
   "metadata": {},
   "outputs": [
    {
     "name": "stdout",
     "output_type": "stream",
     "text": [
      "Python\n",
      "C++\n"
     ]
    }
   ],
   "source": [
    "languages = [\"Python\", \"Swift\", \"C++\"]\n",
    "# access item at index 0\n",
    "print(languages[0])   # Python\n",
    "# access item at index 2\n",
    "print(languages[2])   # C++"
   ]
  },
  {
   "attachments": {
    "list-index-in-python.png": {
     "image/png": "[encoded data removed]"
    }
   },
   "cell_type": "markdown",
   "id": "94fb890d",
   "metadata": {},
   "source": [
    "![list-index-in-python.png](attachment:list-index-in-python.png)"
   ]
  },
  {
   "cell_type": "markdown",
   "id": "dacd7346",
   "metadata": {},
   "source": [
    "# Negative Indexing in Python\n",
    "#### The index of -1 refers to the last item, -2 to the second last item and so on"
   ]
  },
  {
   "cell_type": "code",
   "execution_count": 4,
   "id": "1e85cb41",
   "metadata": {},
   "outputs": [
    {
     "name": "stdout",
     "output_type": "stream",
     "text": [
      "C++\n",
      "Python\n"
     ]
    }
   ],
   "source": [
    "languages = [\"Python\", \"Swift\", \"C++\"]\n",
    "\n",
    "# access item at index 0\n",
    "print(languages[-1])   # C++\n",
    "\n",
    "# access item at index 2\n",
    "print(languages[-3])   # Python"
   ]
  },
  {
   "attachments": {
    "list-index-in-python.png": {
     "image/png": "[encoded data removed]"
    }
   },
   "cell_type": "markdown",
   "id": "5b5ab17f",
   "metadata": {},
   "source": [
    "![list-index-in-python.png](attachment:list-index-in-python.png)"
   ]
  },
  {
   "cell_type": "markdown",
   "id": "8db7aa0e",
   "metadata": {},
   "source": [
    "## Slicing of a Python List"
   ]
  },
  {
   "cell_type": "code",
   "execution_count": 5,
   "id": "024b4aca",
   "metadata": {},
   "outputs": [
    {
     "name": "stdout",
     "output_type": "stream",
     "text": [
      "['o', 'g', 'r']\n",
      "['a', 'm', 'i', 'z']\n",
      "['p', 'r', 'o', 'g', 'r', 'a', 'm', 'i', 'z']\n"
     ]
    }
   ],
   "source": [
    "# List slicing in Python\n",
    "my_list = ['p','r','o','g','r','a','m','i','z']\n",
    "# items from index 2 to index 4\n",
    "print(my_list[2:5])\n",
    "\n",
    "# items from index 5 to end\n",
    "print(my_list[5:])\n",
    "\n",
    "# items beginning to end\n",
    "print(my_list[:])"
   ]
  },
  {
   "cell_type": "markdown",
   "id": "e6c668fd",
   "metadata": {},
   "source": [
    "## Add Elements to a Python List\n",
    "#### 1. Using append()\n",
    "\n",
    "#### The append() method adds an item at the end of the list. For example,\n",
    "\n"
   ]
  },
  {
   "cell_type": "code",
   "execution_count": 7,
   "id": "abba1275",
   "metadata": {},
   "outputs": [
    {
     "name": "stdout",
     "output_type": "stream",
     "text": [
      "Before Append: [21, 34, 54, 12]\n",
      "After Append: [21, 34, 54, 12, 32]\n"
     ]
    }
   ],
   "source": [
    "numbers = [21, 34, 54, 12]\n",
    "\n",
    "print(\"Before Append:\", numbers)\n",
    "\n",
    "# using append method\n",
    "numbers.append(32)\n",
    "\n",
    "print(\"After Append:\", numbers)\n"
   ]
  },
  {
   "cell_type": "markdown",
   "id": "87643d56",
   "metadata": {},
   "source": [
    "#### 2. Using extend()\n",
    "\n",
    "#### We use the extend() method to merge all items of one list to another. For example,"
   ]
  },
  {
   "cell_type": "code",
   "execution_count": 17,
   "id": "47a75293",
   "metadata": {},
   "outputs": [
    {
     "name": "stdout",
     "output_type": "stream",
     "text": [
      "List1: [2, 3, 5]\n",
      "List2: [4, 6, 8]\n",
      "List after append: [2, 3, 5, 4, 6, 8]\n",
      "[2, 3, 5, 4, 6, 8, 4, 6, 8]\n"
     ]
    }
   ],
   "source": [
    "prime_numbers = [2, 3, 5]\n",
    "print(\"List1:\", prime_numbers)\n",
    "\n",
    "even_numbers = [4, 6, 8]\n",
    "print(\"List2:\", even_numbers)\n",
    "\n",
    "# join two lists\n",
    "prime_numbers.extend(even_numbers)\n",
    "print(\"List after append:\", prime_numbers) \n",
    "\n",
    "print(prime_numbers + even_numbers)"
   ]
  },
  {
   "cell_type": "markdown",
   "id": "e7d52b3a",
   "metadata": {},
   "source": [
    "#### Append a list into a list"
   ]
  },
  {
   "cell_type": "code",
   "execution_count": 15,
   "id": "2d4174c9",
   "metadata": {},
   "outputs": [
    {
     "name": "stdout",
     "output_type": "stream",
     "text": [
      "List1: [1, 7, 2]\n",
      "List1: [4, 6, 8]\n",
      "[1, 7, 2, [4, 6, 8]]\n"
     ]
    }
   ],
   "source": [
    "prime_numbers = [1,7,2]\n",
    "print(\"List1:\", prime_numbers)\n",
    "even_numbers= [4, 6, 8]\n",
    "print(\"List1:\", even_numbers)\n",
    "\n",
    "prime_numbers.append(even_numbers)\n",
    "print(prime_numbers)"
   ]
  },
  {
   "cell_type": "markdown",
   "id": "40bdb748",
   "metadata": {},
   "source": [
    "## Change List Items"
   ]
  },
  {
   "cell_type": "code",
   "execution_count": 9,
   "id": "cb60e8f8",
   "metadata": {},
   "outputs": [
    {
     "name": "stdout",
     "output_type": "stream",
     "text": [
      "['Python', 'Swift', 'C']\n"
     ]
    }
   ],
   "source": [
    "languages = ['Python', 'Swift', 'C++']\n",
    "\n",
    "# changing the third item to 'C'\n",
    "languages[2] = 'C'\n",
    "print(languages)  # ['Python', 'Swift', 'C']"
   ]
  },
  {
   "cell_type": "markdown",
   "id": "a96fbece",
   "metadata": {},
   "source": [
    "## Remove an Item From a List\n",
    "\n",
    "####  1. Using del"
   ]
  },
  {
   "cell_type": "code",
   "execution_count": 22,
   "id": "c28e5058",
   "metadata": {},
   "outputs": [
    {
     "name": "stdout",
     "output_type": "stream",
     "text": [
      "['Python', 'Swift', 'C++', 'C', 'Java', 'Rust', 'R']\n",
      "['Python', 'C++', 'C', 'Java', 'Rust', 'R']\n",
      "['Python', 'C++', 'C', 'Java', 'Rust']\n",
      "['C', 'Java', 'Rust']\n"
     ]
    }
   ],
   "source": [
    "languages = ['Python', 'Swift', 'C++', 'C', 'Java', 'Rust', 'R']\n",
    "print(languages)\n",
    "\n",
    "# deleting the second item\n",
    "del languages[1]\n",
    "print(languages)  \n",
    "\n",
    "# deleting the last item\n",
    "del languages[-1]\n",
    "print(languages)  \n",
    "# delete first two items\n",
    "del languages[0 : 2]  \n",
    "print(languages)"
   ]
  },
  {
   "cell_type": "markdown",
   "id": "34737321",
   "metadata": {},
   "source": [
    "#### 2. Using remove()"
   ]
  },
  {
   "cell_type": "code",
   "execution_count": 21,
   "id": "a33db70b",
   "metadata": {},
   "outputs": [
    {
     "name": "stdout",
     "output_type": "stream",
     "text": [
      "['Swift', 'C++', 'C', 'Java', 'Rust', 'R']\n"
     ]
    }
   ],
   "source": [
    "languages = ['Python', 'Swift', 'C++', 'C', 'Java', 'Rust', 'R']\n",
    "# remove 'Python' from the list\n",
    "languages.remove('Python')\n",
    "print(languages) # ['Swift', 'C++', 'C', 'Java', 'Rust', 'R']"
   ]
  },
  {
   "cell_type": "markdown",
   "id": "4013a697",
   "metadata": {},
   "source": [
    "## List index()"
   ]
  },
  {
   "cell_type": "code",
   "execution_count": 25,
   "id": "d2ddc6d7",
   "metadata": {},
   "outputs": [
    {
     "name": "stdout",
     "output_type": "stream",
     "text": [
      "Index of the language JAVA is : 4\n"
     ]
    }
   ],
   "source": [
    "Language = ['Python', 'Swift', 'C++', 'C', 'Java', 'Rust', 'R']\n",
    "\n",
    "# get the index of 'Java'\n",
    "index = Language.index('Java')\n",
    "\n",
    "print(\"Index of the language JAVA is :\", index) "
   ]
  },
  {
   "cell_type": "markdown",
   "id": "53b50f98",
   "metadata": {},
   "source": [
    "#### Working of index() With Start and End Parameters"
   ]
  },
  {
   "cell_type": "code",
   "execution_count": 29,
   "id": "b871a99c",
   "metadata": {},
   "outputs": [
    {
     "name": "stdout",
     "output_type": "stream",
     "text": [
      "The index of e: 1\n",
      "The index of i: 6\n"
     ]
    },
    {
     "ename": "ValueError",
     "evalue": "'i' is not in list",
     "output_type": "error",
     "traceback": [
      "\u001b[1;31m---------------------------------------------------------------------------\u001b[0m",
      "\u001b[1;31mValueError\u001b[0m                                Traceback (most recent call last)",
      "\u001b[1;32m~\\AppData\\Local\\Temp\\ipykernel_17940\\1969676772.py\u001b[0m in \u001b[0;36m<module>\u001b[1;34m\u001b[0m\n\u001b[0;32m     11\u001b[0m \u001b[1;33m\u001b[0m\u001b[0m\n\u001b[0;32m     12\u001b[0m \u001b[1;31m# 'i' between 3rd and 5th index is searched\u001b[0m\u001b[1;33m\u001b[0m\u001b[1;33m\u001b[0m\u001b[0m\n\u001b[1;32m---> 13\u001b[1;33m \u001b[0mindex\u001b[0m \u001b[1;33m=\u001b[0m \u001b[0malphabets\u001b[0m\u001b[1;33m.\u001b[0m\u001b[0mindex\u001b[0m\u001b[1;33m(\u001b[0m\u001b[1;34m'i'\u001b[0m\u001b[1;33m,\u001b[0m \u001b[1;36m3\u001b[0m\u001b[1;33m,\u001b[0m \u001b[1;36m5\u001b[0m\u001b[1;33m)\u001b[0m   \u001b[1;31m# Error!\u001b[0m\u001b[1;33m\u001b[0m\u001b[0m\n\u001b[0m\u001b[0;32m     14\u001b[0m \u001b[0mprint\u001b[0m\u001b[1;33m(\u001b[0m\u001b[1;34m'The index of i:'\u001b[0m\u001b[1;33m,\u001b[0m \u001b[0mindex\u001b[0m\u001b[1;33m)\u001b[0m\u001b[1;33m\u001b[0m\u001b[0m\n",
      "\u001b[1;31mValueError\u001b[0m: 'i' is not in list"
     ]
    }
   ],
   "source": [
    "# alphabets list\n",
    "alphabets = ['a', 'e', 'i', 'o', 'g', 'l', 'i', 'u']\n",
    "# index of 'i' in alphabets\n",
    "index = alphabets.index('e')   # 1\n",
    "\n",
    "print('The index of e:', index)\n",
    "# 'i' after the 4th index is searched\n",
    "index = alphabets.index('i', 4)   # 6\n",
    "\n",
    "print('The index of i:', index)\n",
    "\n",
    "# 'i' between 3rd and 5th index is searched\n",
    "index = alphabets.index('i', 3, 5)   # Error!\n",
    "print('The index of i:', index)"
   ]
  },
  {
   "cell_type": "code",
   "execution_count": 34,
   "id": "daa4a1c9",
   "metadata": {},
   "outputs": [
    {
     "name": "stdout",
     "output_type": "stream",
     "text": [
      "error\n"
     ]
    }
   ],
   "source": [
    "try:\n",
    "    index = alphabets.index('i', 3, 5)   # Error!\n",
    "except:\n",
    "    print(\"error\")"
   ]
  },
  {
   "cell_type": "code",
   "execution_count": 35,
   "id": "34c5c752",
   "metadata": {},
   "outputs": [
    {
     "name": "stdout",
     "output_type": "stream",
     "text": [
      "Index our of range\n"
     ]
    }
   ],
   "source": [
    "try:\n",
    "    index = alphabets.index('i', 3, 5)   # Error!\n",
    "except ValueError:\n",
    "    print(\"Index our of range\")\n",
    "except:\n",
    "    print(\"Some other exception happened\")\n",
    "# print('The index of i:', index)"
   ]
  },
  {
   "cell_type": "markdown",
   "id": "6a69eb21",
   "metadata": {},
   "source": [
    "## Python List count()\n",
    "#### The count() method returns the number of times the specified element appears in the list."
   ]
  },
  {
   "cell_type": "code",
   "execution_count": 37,
   "id": "35c39bb9",
   "metadata": {},
   "outputs": [
    {
     "name": "stdout",
     "output_type": "stream",
     "text": [
      "Count of 2: 3\n"
     ]
    }
   ],
   "source": [
    "# create a list\n",
    "numbers = [2, 3, 5, 2, 11, 2, 7]\n",
    "# check the count of 2\n",
    "count = numbers.count(2)\n",
    "print('Count of 2:', count)\n",
    "# Output: Count of 2: 3"
   ]
  },
  {
   "cell_type": "code",
   "execution_count": 38,
   "id": "451c95b0",
   "metadata": {},
   "outputs": [
    {
     "name": "stdout",
     "output_type": "stream",
     "text": [
      "The count of ('a', 'b') is: 2\n",
      "The count of [3, 4] is: 1\n"
     ]
    }
   ],
   "source": [
    "# random list\n",
    "random = ['a', ('a', 'b'), ('a', 'b'), [3, 4]]\n",
    "# count element ('a', 'b')\n",
    "count = random.count(('a', 'b'))\n",
    "print(\"The count of ('a', 'b') is:\", count)\n",
    "# count element [3, 4]\n",
    "count = random.count([3, 4])\n",
    "print(\"The count of [3, 4] is:\", count)"
   ]
  },
  {
   "cell_type": "markdown",
   "id": "50dae5d5",
   "metadata": {},
   "source": [
    "## Python List pop()\n",
    "\n",
    "#### list.pop(index)"
   ]
  },
  {
   "cell_type": "code",
   "execution_count": 58,
   "id": "117a78d0",
   "metadata": {},
   "outputs": [
    {
     "name": "stdout",
     "output_type": "stream",
     "text": [
      "Removed Element: 5\n",
      "Updated List: [2, 3, 7]\n"
     ]
    }
   ],
   "source": [
    "# create a list of prime numbers\n",
    "prime_numbers = [2, 3, 5, 7]\n",
    "# remove the element at index 2\n",
    "removed_element = prime_numbers.pop(2)\n",
    "print('Removed Element:', removed_element)\n",
    "print('Updated List:', prime_numbers)"
   ]
  },
  {
   "cell_type": "markdown",
   "id": "693a66b1",
   "metadata": {},
   "source": [
    "#### Return Value from pop()"
   ]
  },
  {
   "cell_type": "code",
   "execution_count": 59,
   "id": "fabff4c6",
   "metadata": {},
   "outputs": [
    {
     "name": "stdout",
     "output_type": "stream",
     "text": [
      "Return Value: French\n",
      "Updated List: ['Python', 'Java', 'C++', 'C']\n"
     ]
    }
   ],
   "source": [
    "# programming languages list\n",
    "languages = ['Python', 'Java', 'C++', 'French', 'C']\n",
    "\n",
    "# remove and return the 4th item\n",
    "return_value = languages.pop(3)\n",
    "\n",
    "print('Return Value:', return_value)\n",
    "\n",
    "# Updated List\n",
    "print('Updated List:', languages)"
   ]
  },
  {
   "cell_type": "markdown",
   "id": "98996381",
   "metadata": {},
   "source": [
    "#### pop() without an index, and for negative indices"
   ]
  },
  {
   "cell_type": "code",
   "execution_count": 60,
   "id": "bf925ec6",
   "metadata": {},
   "outputs": [
    {
     "name": "stdout",
     "output_type": "stream",
     "text": [
      "When index is not passed:\n",
      "Return Value: C\n",
      "Updated List: ['Python', 'Java', 'C++', 'Ruby']\n",
      "\n",
      "When -1 is passed:\n",
      "Return Value: Ruby\n",
      "Updated List: ['Python', 'Java', 'C++']\n",
      "\n",
      "When -3 is passed:\n",
      "Return Value: Python\n",
      "Updated List: ['Java', 'C++']\n"
     ]
    }
   ],
   "source": [
    "# programming languages list\n",
    "languages = ['Python', 'Java', 'C++', 'Ruby', 'C']\n",
    "\n",
    "# remove and return the last item\n",
    "print('When index is not passed:') \n",
    "print('Return Value:', languages.pop())\n",
    "\n",
    "print('Updated List:', languages)\n",
    "\n",
    "# remove and return the last item\n",
    "print('\\nWhen -1 is passed:') \n",
    "print('Return Value:', languages.pop(-1))\n",
    "\n",
    "print('Updated List:', languages)\n",
    "\n",
    "# remove and return the third last item\n",
    "print('\\nWhen -3 is passed:') \n",
    "print('Return Value:', languages.pop(-3))\n",
    "\n",
    "print('Updated List:', languages)"
   ]
  },
  {
   "cell_type": "markdown",
   "id": "1d3a05f9",
   "metadata": {},
   "source": [
    "## Python List reverse()"
   ]
  },
  {
   "cell_type": "code",
   "execution_count": 61,
   "id": "a682ef98",
   "metadata": {},
   "outputs": [
    {
     "name": "stdout",
     "output_type": "stream",
     "text": [
      "Reversed List: [7, 5, 3, 2]\n"
     ]
    }
   ],
   "source": [
    "# create a list of prime numbers\n",
    "prime_numbers = [2, 3, 5, 7]\n",
    "\n",
    "# reverse the order of list elements\n",
    "prime_numbers.reverse()\n",
    "\n",
    "\n",
    "print('Reversed List:', prime_numbers)\n",
    "\n",
    "# Output: Reversed List: [7, 5, 3, 2]"
   ]
  },
  {
   "cell_type": "code",
   "execution_count": 62,
   "id": "e4b04c22",
   "metadata": {},
   "outputs": [
    {
     "name": "stdout",
     "output_type": "stream",
     "text": [
      "Original List: ['Windows', 'macOS', 'Linux']\n",
      "Updated List: ['Linux', 'macOS', 'Windows']\n"
     ]
    }
   ],
   "source": [
    "# Operating System List\n",
    "systems = ['Windows', 'macOS', 'Linux']\n",
    "print('Original List:', systems)\n",
    "\n",
    "# List Reverse\n",
    "systems.reverse()\n",
    "\n",
    "\n",
    "# updated list\n",
    "print('Updated List:', systems)"
   ]
  },
  {
   "cell_type": "markdown",
   "id": "377d36fa",
   "metadata": {},
   "source": [
    "## Python List sort() \n",
    "\n",
    "#### sort() Syntax\n",
    "The syntax of the sort() method is:\n",
    "#### list.sort(reverse=...)\n",
    "Alternatively, you can also use Python's built-in sorted() function for the same purpose.\n",
    "#### sorted(list,, reverse=...)"
   ]
  },
  {
   "cell_type": "code",
   "execution_count": 63,
   "id": "db0df22c",
   "metadata": {},
   "outputs": [
    {
     "name": "stdout",
     "output_type": "stream",
     "text": [
      "Sorted list: ['a', 'e', 'i', 'o', 'u']\n"
     ]
    }
   ],
   "source": [
    "# vowels list\n",
    "vowels = ['e', 'a', 'u', 'o', 'i']\n",
    "\n",
    "# sort the vowels\n",
    "vowels.sort()\n",
    "\n",
    "# print vowels\n",
    "print('Sorted list:', vowels)"
   ]
  },
  {
   "cell_type": "markdown",
   "id": "0eb54133",
   "metadata": {},
   "source": [
    "##### Check this!!!!"
   ]
  },
  {
   "cell_type": "code",
   "execution_count": 64,
   "id": "7cd41656",
   "metadata": {},
   "outputs": [
    {
     "name": "stdout",
     "output_type": "stream",
     "text": [
      "Sorted list (in Descending): ['e', 'a', 'u', 'o', 'i']\n"
     ]
    }
   ],
   "source": [
    "# vowels list\n",
    "vowels = ['e', 'a', 'u', 'o', 'i']\n",
    "\n",
    "# sort the vowels\n",
    "sorted(vowels)\n",
    "\n",
    "# print vowels\n",
    "print('Sorted list (in Descending):', vowels)"
   ]
  },
  {
   "cell_type": "markdown",
   "id": "8e88406c",
   "metadata": {},
   "source": [
    "## Python List copy()"
   ]
  },
  {
   "cell_type": "code",
   "execution_count": 65,
   "id": "67460f6a",
   "metadata": {},
   "outputs": [
    {
     "name": "stdout",
     "output_type": "stream",
     "text": [
      "New List: [1, 2, 3, 'a']\n",
      "Old List: [1, 2, 3, 'a']\n"
     ]
    }
   ],
   "source": [
    "old_list = [1, 2, 3]\n",
    "\n",
    "# copy list using =\n",
    "new_list = old_list\n",
    "\n",
    "\n",
    "# add an element to list\n",
    "new_list.append('a')\n",
    "\n",
    "print('New List:', new_list)\n",
    "print('Old List:', old_list)"
   ]
  },
  {
   "cell_type": "code",
   "execution_count": 66,
   "id": "5c6d3c6e",
   "metadata": {},
   "outputs": [
    {
     "name": "stdout",
     "output_type": "stream",
     "text": [
      "Copied List: ['cat', 0, 6.7]\n",
      "Copied List: ['cat', 0, 6.7, 'a']\n"
     ]
    }
   ],
   "source": [
    "# mixed list\n",
    "my_list = ['cat', 0, 6.7]\n",
    "\n",
    "# copying a list\n",
    "new_list = my_list.copy()\n",
    "\n",
    "print('Copied List:', new_list)\n",
    "\n",
    "new_list.append('a')\n",
    "print('Copied List:', new_list)"
   ]
  },
  {
   "cell_type": "markdown",
   "id": "53ab279d",
   "metadata": {},
   "source": [
    "## Python List clear()"
   ]
  },
  {
   "cell_type": "code",
   "execution_count": 67,
   "id": "574a9cf4",
   "metadata": {},
   "outputs": [
    {
     "name": "stdout",
     "output_type": "stream",
     "text": [
      "Contents of the list is : [2, 3, 5, 7, 9, 11]\n",
      "List after clearing is: []\n"
     ]
    }
   ],
   "source": [
    "prime_numbers = [2, 3, 5, 7, 9, 11]\n",
    "\n",
    "print(\"Contents of the list is :\",prime_numbers)\n",
    "# remove all elements\n",
    "prime_numbers.clear()\n",
    "\n",
    "# Updated prime_numbers List\n",
    "print('List after clearing is:', prime_numbers)\n",
    "\n",
    "\n",
    "# Output: List after clear(): []"
   ]
  },
  {
   "cell_type": "code",
   "execution_count": 68,
   "id": "81dbe30b",
   "metadata": {},
   "outputs": [
    {
     "name": "stdout",
     "output_type": "stream",
     "text": [
      "List: []\n"
     ]
    }
   ],
   "source": [
    "# Defining a list\n",
    "list = [{1, 2}, ('a'), ['1.1', '2.2']]\n",
    "# clearing the list\n",
    "list.clear()\n",
    "print('List:', list)"
   ]
  },
  {
   "cell_type": "markdown",
   "id": "757e37a2",
   "metadata": {},
   "source": [
    "#### Emptying the List Using del"
   ]
  },
  {
   "cell_type": "code",
   "execution_count": 69,
   "id": "5159ab64",
   "metadata": {},
   "outputs": [
    {
     "name": "stdout",
     "output_type": "stream",
     "text": [
      "List: []\n"
     ]
    }
   ],
   "source": [
    "# Defining a list\n",
    "list = [{1, 2}, ('a'), ['1.1', '2.2']]\n",
    "# clearing the list\n",
    "del list[:]\n",
    "print('List:', list)"
   ]
  },
  {
   "cell_type": "markdown",
   "id": "35bd1349",
   "metadata": {},
   "source": [
    "# Overview"
   ]
  },
  {
   "attachments": {
    "Capture.JPG": {
     "image/jpeg": "[encoded data removed]"
    }
   },
   "cell_type": "markdown",
   "id": "8e69c8c1",
   "metadata": {},
   "source": [
    "![Capture.JPG](attachment:Capture.JPG)"
   ]
  },
  {
   "cell_type": "code",
   "execution_count": null,
   "id": "3b23ab6c",
   "metadata": {},
   "outputs": [],
   "source": []
  }
 ],
 "metadata": {
  "kernelspec": {
   "display_name": "dgvs",
   "language": "python",
   "name": "dgvs"
  },
  "language_info": {
   "codemirror_mode": {
    "name": "ipython",
    "version": 3
   },
   "file_extension": ".py",
   "mimetype": "text/x-python",
   "name": "python",
   "nbconvert_exporter": "python",
   "pygments_lexer": "ipython3",
   "version": "3.7.0"
  }
 },
 "nbformat": 4,
 "nbformat_minor": 5
}

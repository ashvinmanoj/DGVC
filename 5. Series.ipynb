{
 "cells": [
  {
   "cell_type": "code",
   "execution_count": 1,
   "metadata": {
    "_cell_guid": "b1076dfc-b9ad-4769-8c92-a6c4dae69d19",
    "_uuid": "8f2839f25d086af736a60e9eeb907d3b93b6e0e5",
    "execution": {
     "iopub.execute_input": "2023-01-21T05:10:18.491756Z",
     "iopub.status.busy": "2023-01-21T05:10:18.491214Z",
     "iopub.status.idle": "2023-01-21T05:10:18.519608Z",
     "shell.execute_reply": "2023-01-21T05:10:18.518500Z",
     "shell.execute_reply.started": "2023-01-21T05:10:18.491653Z"
    }
   },
   "outputs": [],
   "source": [
    " import pandas as pd"
   ]
  },
  {
   "cell_type": "markdown",
   "metadata": {},
   "source": [
    "### What is a Series?\n",
    "A Pandas Series is like a column in a table.\n",
    "\n",
    "It is a one-dimensional array holding data of any type."
   ]
  },
  {
   "cell_type": "code",
   "execution_count": 2,
   "metadata": {},
   "outputs": [
    {
     "name": "stdout",
     "output_type": "stream",
     "text": [
      "List value is : [1, 7, 2]\n",
      "\n",
      "Series value is :\n",
      "0    1\n",
      "1    7\n",
      "2    2\n",
      "dtype: int64\n"
     ]
    }
   ],
   "source": [
    "import pandas as pd\n",
    "a = [1, 7, 2]\n",
    "myvar = pd.Series(a)\n",
    "print(\"List value is :\",a)\n",
    "print()\n",
    "print(\"Series value is :\")\n",
    "print(myvar)"
   ]
  },
  {
   "cell_type": "markdown",
   "metadata": {},
   "source": [
    "### Labels\n",
    "If nothing else is specified, the values are labeled with their index number. First value has index 0, second value has index 1 etc.\n",
    "\n",
    "This label can be used to access a specified value."
   ]
  },
  {
   "cell_type": "code",
   "execution_count": 3,
   "metadata": {},
   "outputs": [
    {
     "name": "stdout",
     "output_type": "stream",
     "text": [
      "1\n"
     ]
    }
   ],
   "source": [
    "print(myvar[0])"
   ]
  },
  {
   "cell_type": "markdown",
   "metadata": {},
   "source": [
    "### Create Custom Labels\n",
    "With the index argument, you can name your own labels."
   ]
  },
  {
   "cell_type": "code",
   "execution_count": 4,
   "metadata": {},
   "outputs": [
    {
     "name": "stdout",
     "output_type": "stream",
     "text": [
      "x    1\n",
      "y    7\n",
      "z    2\n",
      "dtype: int64\n"
     ]
    }
   ],
   "source": [
    "import pandas as pd\n",
    "a = [1, 7, 2]\n",
    "myvar = pd.Series(a, index = [\"x\", \"y\", \"z\"])\n",
    "print(myvar)"
   ]
  },
  {
   "cell_type": "code",
   "execution_count": 5,
   "metadata": {},
   "outputs": [
    {
     "name": "stdout",
     "output_type": "stream",
     "text": [
      "7\n"
     ]
    }
   ],
   "source": [
    "print(myvar[\"y\"])"
   ]
  },
  {
   "cell_type": "markdown",
   "metadata": {},
   "source": [
    "### Key/Value Objects as Series\n",
    "You can also use a key/value object, like a dictionary, when creating a Series."
   ]
  },
  {
   "cell_type": "code",
   "execution_count": 6,
   "metadata": {},
   "outputs": [
    {
     "name": "stdout",
     "output_type": "stream",
     "text": [
      "day1    420\n",
      "day2    380\n",
      "day3    390\n",
      "dtype: int64\n"
     ]
    }
   ],
   "source": [
    "calories = {\"day1\": 420, \"day2\": 380, \"day3\": 390}\n",
    "myvar = pd.Series(calories)\n",
    "print(myvar)"
   ]
  },
  {
   "cell_type": "markdown",
   "metadata": {},
   "source": [
    "### Choosing index for series"
   ]
  },
  {
   "cell_type": "code",
   "execution_count": 7,
   "metadata": {},
   "outputs": [
    {
     "name": "stdout",
     "output_type": "stream",
     "text": [
      "day1    420\n",
      "day3    390\n",
      "dtype: int64\n"
     ]
    }
   ],
   "source": [
    "import pandas as pd\n",
    "calories = {\"day1\": 420, \"day2\": 380, \"day3\": 390}\n",
    "myvar = pd.Series(calories, index = [\"day1\", \"day3\"])\n",
    "print(myvar)"
   ]
  },
  {
   "cell_type": "markdown",
   "metadata": {},
   "source": [
    "### Intro to Methods"
   ]
  },
  {
   "cell_type": "code",
   "execution_count": 8,
   "metadata": {},
   "outputs": [
    {
     "data": {
      "text/plain": [
       "'HELLO'"
      ]
     },
     "execution_count": 8,
     "metadata": {},
     "output_type": "execute_result"
    }
   ],
   "source": [
    "\"hello\".upper()"
   ]
  },
  {
   "cell_type": "code",
   "execution_count": 9,
   "metadata": {},
   "outputs": [
    {
     "name": "stdout",
     "output_type": "stream",
     "text": [
      "[1, 2, 3, 4, 5]\n"
     ]
    }
   ],
   "source": [
    "values = [1,2,3,4]\n",
    "values.append(5)\n",
    "print(values)"
   ]
  },
  {
   "cell_type": "markdown",
   "metadata": {},
   "source": [
    "#### Sum series values"
   ]
  },
  {
   "cell_type": "code",
   "execution_count": 10,
   "metadata": {},
   "outputs": [
    {
     "name": "stdout",
     "output_type": "stream",
     "text": [
      "0    10.20\n",
      "1    24.60\n",
      "2    45.00\n",
      "3     9.00\n",
      "4     9.02\n",
      "dtype: float64\n",
      "Sum of series is : 97.82\n"
     ]
    }
   ],
   "source": [
    "float_variable= [10.2, 24.6, 45,9, 9.02]\n",
    "prices= pd.Series(float_variable)\n",
    "series_sum= prices.sum()\n",
    "print(prices)\n",
    "print(\"Sum of series is :\",series_sum)"
   ]
  },
  {
   "cell_type": "markdown",
   "metadata": {},
   "source": [
    "#### Mean of  series values"
   ]
  },
  {
   "cell_type": "code",
   "execution_count": 11,
   "metadata": {},
   "outputs": [
    {
     "name": "stdout",
     "output_type": "stream",
     "text": [
      "Mean of series is : 19.564\n"
     ]
    }
   ],
   "source": [
    "series_mean= prices.mean()\n",
    "print(\"Mean of series is :\",series_mean)"
   ]
  },
  {
   "cell_type": "markdown",
   "metadata": {},
   "source": [
    "#### Product of a series"
   ]
  },
  {
   "cell_type": "code",
   "execution_count": 12,
   "metadata": {},
   "outputs": [
    {
     "name": "stdout",
     "output_type": "stream",
     "text": [
      "Product of series is : 916635.8519999998\n"
     ]
    }
   ],
   "source": [
    "series_mean= prices.product()\n",
    "print(\"Product of series is :\",series_mean)"
   ]
  },
  {
   "cell_type": "markdown",
   "metadata": {},
   "source": [
    "### check if sum(), product() and mean() work on list?"
   ]
  },
  {
   "cell_type": "code",
   "execution_count": 17,
   "metadata": {},
   "outputs": [
    {
     "name": "stdout",
     "output_type": "stream",
     "text": [
      "List sum -> 12\n"
     ]
    }
   ],
   "source": [
    "data_list = [2,4,6]\n",
    "print(\"List sum ->\",sum(data_list))\n",
    "#product and mean is not possible with list.\n",
    "#Either use custom function or loop to perform product and mean\n"
   ]
  },
  {
   "cell_type": "markdown",
   "metadata": {},
   "source": [
    "## Intro to  Attributes"
   ]
  },
  {
   "cell_type": "code",
   "execution_count": 18,
   "metadata": {
    "execution": {
     "iopub.execute_input": "2023-01-21T05:12:45.826092Z",
     "iopub.status.busy": "2023-01-21T05:12:45.825626Z",
     "iopub.status.idle": "2023-01-21T05:12:45.833802Z",
     "shell.execute_reply": "2023-01-21T05:12:45.832680Z",
     "shell.execute_reply.started": "2023-01-21T05:12:45.826055Z"
    }
   },
   "outputs": [
    {
     "name": "stdout",
     "output_type": "stream",
     "text": [
      "0       Smart\n",
      "1    Handsome\n",
      "2    Charming\n",
      "3    Brillant\n",
      "4      Humble\n",
      "5       Smart\n",
      "dtype: object\n",
      "<class 'pandas.core.series.Series'>\n"
     ]
    }
   ],
   "source": [
    "adjectives = pd.Series([\"Smart\",\"Handsome\",\"Charming\",\"Brillant\",\"Humble\", \"Smart\"])\n",
    "print(adjectives)\n",
    "print(type(adjectives))"
   ]
  },
  {
   "cell_type": "code",
   "execution_count": 19,
   "metadata": {
    "execution": {
     "iopub.execute_input": "2023-01-21T05:12:51.160250Z",
     "iopub.status.busy": "2023-01-21T05:12:51.159793Z",
     "iopub.status.idle": "2023-01-21T05:12:51.169555Z",
     "shell.execute_reply": "2023-01-21T05:12:51.168552Z",
     "shell.execute_reply.started": "2023-01-21T05:12:51.160213Z"
    }
   },
   "outputs": [
    {
     "name": "stdout",
     "output_type": "stream",
     "text": [
      "6\n"
     ]
    },
    {
     "data": {
      "text/plain": [
       "6"
      ]
     },
     "execution_count": 19,
     "metadata": {},
     "output_type": "execute_result"
    }
   ],
   "source": [
    "print(len(adjectives))\n",
    "adjectives.size"
   ]
  },
  {
   "cell_type": "code",
   "execution_count": 23,
   "metadata": {
    "execution": {
     "iopub.execute_input": "2023-01-21T05:14:17.664770Z",
     "iopub.status.busy": "2023-01-21T05:14:17.664154Z",
     "iopub.status.idle": "2023-01-21T05:14:17.673420Z",
     "shell.execute_reply": "2023-01-21T05:14:17.671889Z",
     "shell.execute_reply.started": "2023-01-21T05:14:17.664729Z"
    }
   },
   "outputs": [
    {
     "name": "stdout",
     "output_type": "stream",
     "text": [
      "False\n",
      "True\n",
      "1\n"
     ]
    }
   ],
   "source": [
    "print(adjectives.is_unique)\n",
    "\n",
    "a = pd.Series([\"Smart\"])\n",
    "print(a.is_unique)\n",
    "print(a.size)"
   ]
  },
  {
   "cell_type": "code",
   "execution_count": 24,
   "metadata": {
    "execution": {
     "iopub.execute_input": "2023-01-21T05:17:22.910045Z",
     "iopub.status.busy": "2023-01-21T05:17:22.909597Z",
     "iopub.status.idle": "2023-01-21T05:17:22.918772Z",
     "shell.execute_reply": "2023-01-21T05:17:22.917277Z",
     "shell.execute_reply.started": "2023-01-21T05:17:22.910012Z"
    }
   },
   "outputs": [
    {
     "data": {
      "text/plain": [
       "array(['Smart', 'Handsome', 'Charming', 'Brillant', 'Humble', 'Smart'],\n",
       "      dtype=object)"
      ]
     },
     "execution_count": 24,
     "metadata": {},
     "output_type": "execute_result"
    }
   ],
   "source": [
    "adjectives.values"
   ]
  },
  {
   "cell_type": "code",
   "execution_count": 25,
   "metadata": {
    "execution": {
     "iopub.execute_input": "2023-01-21T05:17:35.421954Z",
     "iopub.status.busy": "2023-01-21T05:17:35.421547Z",
     "iopub.status.idle": "2023-01-21T05:17:35.428806Z",
     "shell.execute_reply": "2023-01-21T05:17:35.427791Z",
     "shell.execute_reply.started": "2023-01-21T05:17:35.421916Z"
    }
   },
   "outputs": [
    {
     "data": {
      "text/plain": [
       "numpy.ndarray"
      ]
     },
     "execution_count": 25,
     "metadata": {},
     "output_type": "execute_result"
    }
   ],
   "source": [
    "type(adjectives.values)"
   ]
  },
  {
   "cell_type": "code",
   "execution_count": 26,
   "metadata": {
    "execution": {
     "iopub.execute_input": "2023-01-21T05:18:12.020259Z",
     "iopub.status.busy": "2023-01-21T05:18:12.019840Z",
     "iopub.status.idle": "2023-01-21T05:18:12.028316Z",
     "shell.execute_reply": "2023-01-21T05:18:12.026818Z",
     "shell.execute_reply.started": "2023-01-21T05:18:12.020229Z"
    }
   },
   "outputs": [
    {
     "data": {
      "text/plain": [
       "RangeIndex(start=0, stop=6, step=1)"
      ]
     },
     "execution_count": 26,
     "metadata": {},
     "output_type": "execute_result"
    }
   ],
   "source": [
    "adjectives.index"
   ]
  },
  {
   "cell_type": "code",
   "execution_count": 27,
   "metadata": {},
   "outputs": [
    {
     "data": {
      "text/plain": [
       "pandas.core.indexes.range.RangeIndex"
      ]
     },
     "execution_count": 27,
     "metadata": {},
     "output_type": "execute_result"
    }
   ],
   "source": [
    "type(adjectives.index)"
   ]
  },
  {
   "cell_type": "code",
   "execution_count": 28,
   "metadata": {},
   "outputs": [
    {
     "data": {
      "text/plain": [
       "dtype('O')"
      ]
     },
     "execution_count": 28,
     "metadata": {},
     "output_type": "execute_result"
    }
   ],
   "source": [
    "adjectives.dtype"
   ]
  },
  {
   "cell_type": "markdown",
   "metadata": {},
   "source": [
    "### Exercise"
   ]
  },
  {
   "cell_type": "code",
   "execution_count": 31,
   "metadata": {},
   "outputs": [
    {
     "name": "stdout",
     "output_type": "stream",
     "text": [
      "17\n",
      "4.25\n"
     ]
    }
   ],
   "source": [
    "import pandas as pd\n",
    "\n",
    "# The Series below stores the number of home runs\n",
    "# that a baseball player hit per game\n",
    "home_runs = pd.Series([3, 4, 8, 2])\n",
    "\n",
    "# Find the total number of home runs (i.e. the sum) and assign it\n",
    "# to the total_home_runs variable  and print result\n",
    "total_home_runs =  home_runs.sum()\n",
    "print(total_home_runs)\n",
    "\n",
    "# Find the average number of home runs and assign it\n",
    "# to the average_home_runs variable and print result\n",
    "average_home_runs = home_runs.mean()\n",
    "print(average_home_runs)"
   ]
  },
  {
   "cell_type": "markdown",
   "metadata": {},
   "source": [
    "### Parameters and Arguments"
   ]
  },
  {
   "cell_type": "markdown",
   "metadata": {},
   "source": [
    "Parameter - The name we give to an expected input\n",
    "\n",
    "Argument  - The Concrete value that we provide to a parameter\n",
    "\n",
    "Difficulty_levels-  Easy, Medium, Hard\n",
    "\n",
    "Volume - High, Medium, Low\n",
    "\n",
    "Volume - 1 through 10\n",
    "\n",
    "Subtitles- True or False"
   ]
  },
  {
   "cell_type": "code",
   "execution_count": 33,
   "metadata": {},
   "outputs": [
    {
     "name": "stderr",
     "output_type": "stream",
     "text": [
      "<ipython-input-33-9f16d310ed29>:5: DeprecationWarning: The default dtype for empty Series will be 'object' instead of 'float64' in a future version. Specify a dtype explicitly to silence this warning.\n",
      "  pd.Series()\n"
     ]
    },
    {
     "data": {
      "text/plain": [
       "Series([], dtype: float64)"
      ]
     },
     "execution_count": 33,
     "metadata": {},
     "output_type": "execute_result"
    }
   ],
   "source": [
    "fruites = [\"Apple\", \"Mango\", \"Banana\", \"Pineapple\", \"Jackfruit\", \"CustardApple\"]\n",
    "weekdays = [\"Monday\", \"Tuesday\", \"Wednesday\", \"Thursday\", \"Friday\", \"Saturday\"]\n",
    "\n",
    "#Press Shift + Tab then release it to read the possible options (arguments) for series. \n",
    "pd.Series()"
   ]
  },
  {
   "cell_type": "code",
   "execution_count": 34,
   "metadata": {},
   "outputs": [
    {
     "data": {
      "text/plain": [
       "Series([], dtype: int32)"
      ]
     },
     "execution_count": 34,
     "metadata": {},
     "output_type": "execute_result"
    }
   ],
   "source": [
    "pd.Series(data=None,index=None, dtype= int)"
   ]
  },
  {
   "cell_type": "code",
   "execution_count": 35,
   "metadata": {},
   "outputs": [
    {
     "data": {
      "text/plain": [
       "0           Apple\n",
       "1           Mango\n",
       "2          Banana\n",
       "3       Pineapple\n",
       "4       Jackfruit\n",
       "5    CustardApple\n",
       "dtype: object"
      ]
     },
     "execution_count": 35,
     "metadata": {},
     "output_type": "execute_result"
    }
   ],
   "source": [
    "pd.Series(fruites)"
   ]
  },
  {
   "cell_type": "code",
   "execution_count": 36,
   "metadata": {},
   "outputs": [
    {
     "data": {
      "text/plain": [
       "Monday              Apple\n",
       "Tuesday             Mango\n",
       "Wednesday          Banana\n",
       "Thursday        Pineapple\n",
       "Friday          Jackfruit\n",
       "Saturday     CustardApple\n",
       "dtype: object"
      ]
     },
     "execution_count": 36,
     "metadata": {},
     "output_type": "execute_result"
    }
   ],
   "source": [
    "pd.Series(fruites, weekdays)"
   ]
  },
  {
   "cell_type": "markdown",
   "metadata": {},
   "source": [
    "### Exercise"
   ]
  },
  {
   "cell_type": "code",
   "execution_count": 41,
   "metadata": {},
   "outputs": [
    {
     "name": "stdout",
     "output_type": "stream",
     "text": [
      "Monday              Apple\n",
      "Tuesday             Mango\n",
      "Wednesday          Banana\n",
      "Thursday        Pineapple\n",
      "Friday          Jackfruit\n",
      "Saturday     CustardApple\n",
      "dtype: object\n",
      "\n",
      "Monday              Apple\n",
      "Tuesday             Mango\n",
      "Wednesday          Banana\n",
      "Thursday        Pineapple\n",
      "Friday          Jackfruit\n",
      "Saturday     CustardApple\n",
      "dtype: object\n"
     ]
    }
   ],
   "source": [
    "# If you see a test failure when checking your solution,\n",
    "# note that [left] refers to YOUR code while [right]\n",
    "# refers to the correct code that the computer is comparing\n",
    "# to your work\n",
    " \n",
    "# The code below defines a list of delicious foods\n",
    "# and some dipping sauces to dip them in\n",
    "import pandas as pd\n",
    " \n",
    "foods = [\"French Fries\", \"Chicken Nuggets\", \"Celery\", \"Carrots\"]\n",
    "dipping_sauces = [\"BBQ\", \"Honey Mustard\", \"Ranch\", \"Sriracha\"]\n",
    " \n",
    "# Create a Series and assign it to the s1 variable. \n",
    "# Assign the foods list as the data source\n",
    "# and the dipping_sauces list as the Series index \n",
    "# For this solution, use positional arguments (i.e. feed in the arguments sequentially)\n",
    "s1=pd.Series(fruites, index=weekdays)\n",
    "print(s1) \n",
    "\n",
    "print()    \n",
    "# Create a Series and assign it to the s2 variable. \n",
    "# Assign the dipping_sauces list as the data source\n",
    "# and the foods list as the Series index \n",
    "# For this solution, use keyword arguments (i.e. provide the parameter names\n",
    "# alongside the arguments)\n",
    "s2=pd.Series(index=weekdays,data=fruites)\n",
    "print(s2)"
   ]
  },
  {
   "cell_type": "markdown",
   "metadata": {},
   "source": [
    "### Head and Tail method"
   ]
  },
  {
   "cell_type": "code",
   "execution_count": 42,
   "metadata": {},
   "outputs": [
    {
     "name": "stdout",
     "output_type": "stream",
     "text": [
      "Monday           Apple\n",
      "Tuesday          Mango\n",
      "Wednesday       Banana\n",
      "Thursday     Pineapple\n",
      "Friday       Jackfruit\n",
      "dtype: object\n",
      "\n",
      "Tuesday             Mango\n",
      "Wednesday          Banana\n",
      "Thursday        Pineapple\n",
      "Friday          Jackfruit\n",
      "Saturday     CustardApple\n",
      "dtype: object\n"
     ]
    }
   ],
   "source": [
    "a=pd.Series(fruites, weekdays)\n",
    "print(a.head())\n",
    "print()\n",
    "print(a.tail())"
   ]
  },
  {
   "cell_type": "markdown",
   "metadata": {},
   "source": [
    "### Series and in built functions"
   ]
  },
  {
   "cell_type": "code",
   "execution_count": 43,
   "metadata": {},
   "outputs": [
    {
     "name": "stdout",
     "output_type": "stream",
     "text": [
      "['Apple', 'Banana', 'CustardApple', 'Jackfruit', 'Mango', 'Pineapple']\n",
      "6\n",
      "6\n",
      "['Apple', 'Mango', 'Banana', 'Pineapple', 'Jackfruit', 'CustardApple']\n",
      "{'Monday': 'Apple', 'Tuesday': 'Mango', 'Wednesday': 'Banana', 'Thursday': 'Pineapple', 'Friday': 'Jackfruit', 'Saturday': 'CustardApple'}\n",
      "Pineapple\n",
      "Apple\n"
     ]
    }
   ],
   "source": [
    "a=pd.Series(fruites, weekdays)\n",
    "print(sorted(a))\n",
    "print(len(a))\n",
    "print(a.size)\n",
    "print(list(a))\n",
    "print(dict(a))\n",
    "print(max(a))\n",
    "print(min(a))\n",
    " \n",
    " \n",
    "\n"
   ]
  },
  {
   "cell_type": "code",
   "execution_count": null,
   "metadata": {},
   "outputs": [],
   "source": []
  }
 ],
 "metadata": {
  "kernelspec": {
   "display_name": "Python 3",
   "language": "python",
   "name": "python3"
  },
  "language_info": {
   "codemirror_mode": {
    "name": "ipython",
    "version": 3
   },
   "file_extension": ".py",
   "mimetype": "text/x-python",
   "name": "python",
   "nbconvert_exporter": "python",
   "pygments_lexer": "ipython3",
   "version": "3.8.8"
  }
 },
 "nbformat": 4,
 "nbformat_minor": 4
}
